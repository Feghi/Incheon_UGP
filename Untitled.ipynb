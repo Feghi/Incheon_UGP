{
 "cells": [
  {
   "cell_type": "code",
   "execution_count": 2,
   "id": "6de2ba0c-1a1b-403e-8430-315fd481f4a3",
   "metadata": {},
   "outputs": [],
   "source": [
    "#naver map api key\n",
    "client_id = 'xhbfckkyg3';    # 본인이 할당받은 ID 입력\n",
    "client_pw = 'lpd28lbrhk1WqcLPSmEzUUSAL0mrM5lwyMCAZoaz';    # 본인이 할당받은 Secret 입력\n",
    "\n",
    "api_url = 'https://naveropenapi.apigw.gov-ntruss.com/map-reversegeocode/v2/gc?coords='"
   ]
  },
  {
   "cell_type": "code",
   "execution_count": null,
   "id": "7909e3bb-5a70-45ff-b184-1dca7d2ebd9f",
   "metadata": {},
   "outputs": [],
   "source": []
  },
  {
   "cell_type": "code",
   "execution_count": 1,
   "id": "b8b109d1-289f-4ef7-ba87-6f6693d1a120",
   "metadata": {},
   "outputs": [
    {
     "ename": "NameError",
     "evalue": "name 'GPS_point' is not defined",
     "output_type": "error",
     "traceback": [
      "\u001b[1;31m---------------------------------------------------------------------------\u001b[0m",
      "\u001b[1;31mNameError\u001b[0m                                 Traceback (most recent call last)",
      "\u001b[1;32m<ipython-input-1-870a4cb399c6>\u001b[0m in \u001b[0;36m<module>\u001b[1;34m\u001b[0m\n\u001b[0;32m      8\u001b[0m \u001b[1;31m# 네이버 지도 API 이용해서 위경도 찾기\u001b[0m\u001b[1;33m\u001b[0m\u001b[1;33m\u001b[0m\u001b[1;33m\u001b[0m\u001b[0m\n\u001b[0;32m      9\u001b[0m \u001b[0madd_urlenc\u001b[0m \u001b[1;33m=\u001b[0m \u001b[1;33m[\u001b[0m\u001b[1;33m]\u001b[0m\u001b[1;33m\u001b[0m\u001b[1;33m\u001b[0m\u001b[0m\n\u001b[1;32m---> 10\u001b[1;33m \u001b[0mGPS_point\u001b[0m\u001b[1;33m[\u001b[0m\u001b[1;34m'좌표'\u001b[0m\u001b[1;33m]\u001b[0m\u001b[1;33m=\u001b[0m\u001b[0mGPS_point\u001b[0m\u001b[1;33m[\u001b[0m\u001b[1;34m'경도'\u001b[0m\u001b[1;33m]\u001b[0m\u001b[1;33m+\u001b[0m\u001b[1;34m','\u001b[0m\u001b[1;33m+\u001b[0m\u001b[0mGPS_point\u001b[0m\u001b[1;33m[\u001b[0m\u001b[1;34m'위도'\u001b[0m\u001b[1;33m]\u001b[0m\u001b[1;33m\u001b[0m\u001b[1;33m\u001b[0m\u001b[0m\n\u001b[0m\u001b[0;32m     11\u001b[0m \u001b[1;32mfor\u001b[0m \u001b[0madd\u001b[0m \u001b[1;32min\u001b[0m \u001b[0mtqdm\u001b[0m\u001b[1;33m(\u001b[0m\u001b[0mGPS_point\u001b[0m\u001b[1;33m[\u001b[0m\u001b[1;34m'좌표'\u001b[0m\u001b[1;33m]\u001b[0m\u001b[1;33m)\u001b[0m\u001b[1;33m:\u001b[0m\u001b[1;33m\u001b[0m\u001b[1;33m\u001b[0m\u001b[0m\n\u001b[0;32m     12\u001b[0m \u001b[1;31m#    geo_coordi = parse.quote(add)\u001b[0m\u001b[1;33m\u001b[0m\u001b[1;33m\u001b[0m\u001b[1;33m\u001b[0m\u001b[0m\n",
      "\u001b[1;31mNameError\u001b[0m: name 'GPS_point' is not defined"
     ]
    }
   ],
   "source": [
    "\n",
    "\n",
    "\n",
    "# 네이버 지도 API 이용해서 위경도 찾기\n",
    "add_urlenc = []\n",
    "GPS_point['좌표']=GPS_point['경도']+','+GPS_point['위도']\n",
    "for add in tqdm(GPS_point['좌표']):\n",
    "#    geo_coordi = parse.quote(add)  \n",
    "    url = api_url + add\n",
    "    request = Request(url)\n",
    "    request.add_header('X-NCP-APIGW-API-KEY-ID', client_id)\n",
    "    request.add_header('X-NCP-APIGW-API-KEY', client_pw)\n",
    "    try:\n",
    "        response = urlopen(request)\n",
    "    except HTTPError as e:\n",
    "        print('HTTP Error!')\n",
    "        area1 = None\n",
    "        area2 = None\n",
    "        area3 = None\n",
    "        building = None\n",
    "    else:\n",
    "        rescode = response.getcode()\n",
    "        if rescode == 3:\n",
    "            response_body = response.read().decode('utf-8')\n",
    "            response_body = json.loads(response_body)   # json\n",
    "            if response_body['results'] != []:\n",
    "                area1 = response_body['results']['region']['area1']\n",
    "                area2 = response_body['results']['region']['area2']\n",
    "                area3 = response_body['results']['region']['area3']\n",
    "                building = response_body['addition0']['value']\n",
    "#                 print(\"Success!\",end=' ')\n",
    "            elif response_body['addresses'] == []:\n",
    "                area1 = None\n",
    "                area2 = None\n",
    "                area3 = None\n",
    "                building = None\n",
    "#                 print(\"'result' not exist!\",end=' ')\n",
    "            else:\n",
    "                print(\"'addresses' not exist!\",end=' ')                \n",
    "        else:\n",
    "#             print('Response error code : %d' % rescode)\n",
    "                area1 = None\n",
    "                area2 = None\n",
    "                area3 = None\n",
    "                building = None\n",
    "\n",
    "    geo_coordi.append([area1,area2,area3,building])"
   ]
  },
  {
   "cell_type": "code",
   "execution_count": null,
   "id": "3f33e8e2-46d6-4db0-8739-d2ee30be4eec",
   "metadata": {},
   "outputs": [],
   "source": []
  }
 ],
 "metadata": {
  "kernelspec": {
   "display_name": "Python 3",
   "language": "python",
   "name": "python3"
  },
  "language_info": {
   "codemirror_mode": {
    "name": "ipython",
    "version": 3
   },
   "file_extension": ".py",
   "mimetype": "text/x-python",
   "name": "python",
   "nbconvert_exporter": "python",
   "pygments_lexer": "ipython3",
   "version": "3.8.8"
  }
 },
 "nbformat": 4,
 "nbformat_minor": 5
}
