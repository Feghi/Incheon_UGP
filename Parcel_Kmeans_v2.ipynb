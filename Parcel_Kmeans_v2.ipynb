{
 "cells": [
  {
   "cell_type": "code",
   "execution_count": null,
   "id": "80c82cd1-d3b3-444b-95ad-b9d8af05d799",
   "metadata": {},
   "outputs": [],
   "source": [
    "import pandas as pd\n",
    "from sklearn.cluster import KMeans \n",
    "import matplotlib.pyplot  as plt\n",
    "import seaborn as sns"
   ]
  },
  {
   "cell_type": "code",
   "execution_count": null,
   "id": "f72a1fd6-7e6e-4b27-bd36-e7a52bd0c7c0",
   "metadata": {},
   "outputs": [],
   "source": [
    " df = pd.read_csv('E:/incheon/parcel_20210105_58131.csv', encoding='UTF-8', sep=\"|\", error_bad_lines=False)"
   ]
  },
  {
   "cell_type": "code",
   "execution_count": null,
   "id": "5abc571d-cbb3-46ef-8f43-fe40be0111ff",
   "metadata": {},
   "outputs": [],
   "source": [
    "df=df.dropna(subset=['위도'])\n",
    "df=df.dropna(subset=['경도'])\n",
    "df = df.reset_index(drop=True)"
   ]
  },
  {
   "cell_type": "code",
   "execution_count": null,
   "id": "4302987e-5469-43f4-a659-fdca6666125c",
   "metadata": {},
   "outputs": [],
   "source": [
    "feature = df[ ['위도','경도']]\n",
    "feature.head()"
   ]
  },
  {
   "cell_type": "code",
   "execution_count": null,
   "id": "fa822644-0aaa-4393-b6d7-9249be8db0c9",
   "metadata": {},
   "outputs": [],
   "source": [
    "\n",
    "# k-means clustering 실행\n",
    "kmeans = KMeans(n_clusters=30)\n",
    "kmeans.fit(feature)\n",
    "\n",
    "# 결과 확인\n",
    "r = feature.copy()\n",
    "r[\"predict\"] = kmeans.labels_\n",
    "r.head()"
   ]
  },
  {
   "cell_type": "code",
   "execution_count": null,
   "id": "f28d9d5c-f23c-486c-8021-cd588954811e",
   "metadata": {},
   "outputs": [],
   "source": []
  },
  {
   "cell_type": "code",
   "execution_count": null,
   "id": "56c19eef-4827-43b7-acfd-27f383ff45f6",
   "metadata": {},
   "outputs": [],
   "source": [
    "r.head()"
   ]
  },
  {
   "cell_type": "code",
   "execution_count": null,
   "id": "ccc35226-0083-43f3-9b1d-3c230c529f71",
   "metadata": {},
   "outputs": [],
   "source": [
    "#pairplot with Seaborn\n",
    "plt.rcParams['font.family'] = 'NanumGothic'\n",
    "sns.pairplot(r,hue='predict')\n",
    "plt.show()"
   ]
  },
  {
   "cell_type": "code",
   "execution_count": null,
   "id": "6d57a006-6af0-4159-9ad2-f82ebea05bb0",
   "metadata": {},
   "outputs": [],
   "source": [
    "# 0.0001\n",
    "r['위도'] = r['위도'].round(4)\n",
    "r['경도'] = r['경도'].round(4)\n",
    "GPS_point=r.groupby('predict')[['위도','경도']].agg( lambda x: pd.Series.mode(x)[0]).reset_index() ## 평균 GPS"
   ]
  },
  {
   "cell_type": "code",
   "execution_count": null,
   "id": "4df3733b-7e16-47b8-aca2-9a7c9042732f",
   "metadata": {},
   "outputs": [],
   "source": [
    "GPS_point.head()"
   ]
  },
  {
   "cell_type": "code",
   "execution_count": null,
   "id": "05f01728-e216-44ba-94c0-49f4a988d5cd",
   "metadata": {},
   "outputs": [],
   "source": [
    "sum(r.groupby('predict').count()['위도']>200)"
   ]
  },
  {
   "cell_type": "code",
   "execution_count": null,
   "id": "71c9598a-5e43-46bf-b3a9-0551382ab065",
   "metadata": {},
   "outputs": [],
   "source": [
    "r.groupby('predict')[['위도','경도']].agg(pd.Series.count).reset_index() ## 평균 GPS"
   ]
  },
  {
   "cell_type": "code",
   "execution_count": null,
   "id": "6129aa71-e214-4768-b181-abee5e1c9958",
   "metadata": {},
   "outputs": [],
   "source": [
    "GPS_point=GPS_point[GPS_point['predict']<sum(r.groupby('predict').count()['위도']>100)]"
   ]
  },
  {
   "cell_type": "code",
   "execution_count": null,
   "id": "31318813-87d3-4302-98c5-ae3fafe91838",
   "metadata": {},
   "outputs": [],
   "source": [
    "#사용 라이브러리\n",
    "import numpy as np\n",
    "import pandas as pd\n",
    "from tqdm import tqdm\n",
    "import folium\n",
    "from folium.plugins import MarkerCluster\n",
    "from urllib.request import Request, urlopen\n",
    "from urllib import parse\n",
    "from urllib.request import Request\n",
    "from urllib.error import HTTPError\n",
    "from lxml import html\n",
    "import time\n",
    "import requests, bs4\n",
    "from urllib.parse import urlencode, quote_plus, unquote\n",
    "from bs4 import BeautifulSoup\n",
    "import json\n",
    "pd.set_option('display.max_columns', 500)"
   ]
  },
  {
   "cell_type": "code",
   "execution_count": null,
   "id": "073c0786-af75-40d5-8978-b51dba02c358",
   "metadata": {},
   "outputs": [],
   "source": [
    "lat = GPS_point['위도'].mean()\n",
    "long = GPS_point['경도'].mean()\n",
    "m = folium.Map([lat,long],zoom_start=10)"
   ]
  },
  {
   "cell_type": "code",
   "execution_count": null,
   "id": "219d6fc3-3a20-4486-9559-5ebaa049609f",
   "metadata": {},
   "outputs": [],
   "source": [
    "\n",
    "for i in GPS_point.index:\n",
    "    sub_lat =  GPS_point.loc[i,'위도']\n",
    "    sub_long = GPS_point.loc[i,'경도']\n",
    "    title = GPS_point.loc[i,'predict']            \n",
    "    #지도에 데이터 찍어서 보여주기\n",
    "    folium.Marker([sub_lat,sub_long],icon=folium.Icon(color='red', icon='home', prefix='fa'),tooltip=title).add_to(m)\n",
    "    folium.Circle([sub_lat,sub_long],tooltip=title,radius=2500).add_to(m)\n",
    "\n",
    "#한글이 안나오는 오류로 html로 trouble shooting \n",
    "m"
   ]
  },
  {
   "cell_type": "code",
   "execution_count": null,
   "id": "29ad9865-6705-45ba-8aa1-1203c34be993",
   "metadata": {},
   "outputs": [],
   "source": [
    "def plot(df):\n",
    "    # 리스트를 이용해 여러 행의 데이터를 위,경도로 묶음\n",
    "    locations = list(zip(df.위도, df.경도))\n",
    "    # 반복문을 이용해 locations로 정의한 변수에 해당하는 위치에 자동차 모양의 빨간색 아이콘을 지정했다.\n",
    "    icons = [folium.Icon(icon=\"box\", prefix=\"fa\", color=\"green\") for _ in range(len(locations))]\n",
    "\n",
    "\n",
    "    # 클러스터를 생성하여 앞에서 지정한 locations, icons을 설정해준다.\n",
    "    cluster = MarkerCluster(locations = locations, icons = icons)\n",
    "    # 지도에 클러스터를 추가.\n",
    "    cluster.add_to(m)"
   ]
  },
  {
   "cell_type": "code",
   "execution_count": null,
   "id": "7b2e5db9-e5a5-49d7-9afe-4eb73014e851",
   "metadata": {},
   "outputs": [],
   "source": [
    "plot(df)\n",
    "m"
   ]
  },
  {
   "cell_type": "code",
   "execution_count": null,
   "id": "37b156b2-fd54-4cee-8b2a-d9e01f5b9417",
   "metadata": {},
   "outputs": [],
   "source": [
    "#  m.save('E:/kmeans30.html')"
   ]
  },
  {
   "cell_type": "code",
   "execution_count": null,
   "id": "314dcaa6-ec8b-4449-870b-bdfc7a11abbe",
   "metadata": {},
   "outputs": [],
   "source": [
    "import numbers\n",
    "import math\n",
    "\n",
    "class GeoUtil:\n",
    "    \"\"\"\n",
    "    Geographical Utils\n",
    "    \"\"\"\n",
    "    @staticmethod\n",
    "    def degree2radius(degree):\n",
    "        return degree * (math.pi/180)\n",
    "    \n",
    "    @staticmethod\n",
    "    def get_harversion_distance(x1, y1, x2, y2, round_decimal_digits=5):\n",
    "        \"\"\"\n",
    "        경위도 (x1,y1)과 (x2,y2) 점의 거리를 반환\n",
    "        Harversion Formula 이용하여 2개의 경위도간 거래를 구함(단위:Km)\n",
    "        \"\"\"\n",
    "        if x1 is None or y1 is None or x2 is None or y2 is None:\n",
    "            return None\n",
    "        assert isinstance(x1, numbers.Number) and -180 <= x1 and x1 <= 180\n",
    "        assert isinstance(y1, numbers.Number) and  -90 <= y1 and y1 <=  90\n",
    "        assert isinstance(x2, numbers.Number) and -180 <= x2 and x2 <= 180\n",
    "        assert isinstance(y2, numbers.Number) and  -90 <= y2 and y2 <=  90\n",
    "\n",
    "        R = 6371 # 지구의 반경(단위: km)\n",
    "        dLon = GeoUtil.degree2radius(x2-x1)    \n",
    "        dLat = GeoUtil.degree2radius(y2-y1)\n",
    "\n",
    "        a = math.sin(dLat/2) * math.sin(dLat/2) \\\n",
    "            + (math.cos(GeoUtil.degree2radius(y1)) \\\n",
    "              *math.cos(GeoUtil.degree2radius(y2)) \\\n",
    "              *math.sin(dLon/2) * math.sin(dLon/2))\n",
    "        b = 2 * math.atan2(math.sqrt(a), math.sqrt(1-a))\n",
    "        return round(R * b, round_decimal_digits)\n",
    "\n",
    "    @staticmethod\n",
    "    def get_euclidean_distance(x1, y1, x2, y2, round_decimal_digits=5):        \n",
    "        \"\"\"\n",
    "        유클리안 Formula 이용하여 (x1,y1)과 (x2,y2) 점의 거리를 반환\n",
    "        \"\"\"\n",
    "        if x1 is None or y1 is None or x2 is None or y2 is None:\n",
    "            return None\n",
    "        assert isinstance(x1, numbers.Number) and -180 <= x1 and x1 <= 180\n",
    "        assert isinstance(y1, numbers.Number) and  -90 <= y1 and y1 <=  90\n",
    "        assert isinstance(x2, numbers.Number) and -180 <= x2 and x2 <= 180\n",
    "        assert isinstance(y2, numbers.Number) and  -90 <= y2 and y2 <=  90\n",
    "\n",
    "        dLon = abs(x2-x1) # 경도 차이\n",
    "        if dLon >= 180:   # 반대편으로 갈 수 있는 경우\n",
    "            dLon -= 360   # 반대편 각을 구한다\n",
    "        dLat = y2-y1      # 위도 차이\n",
    "        return round(math.sqrt(pow(dLon,2)+pow(dLat,2)),round_decimal_digits)"
   ]
  },
  {
   "cell_type": "code",
   "execution_count": null,
   "id": "ea8e5ae6-2978-46cc-b787-213c42c5659e",
   "metadata": {},
   "outputs": [],
   "source": [
    "GPS_point['좌표']=GPS_point['경도'].astype(str)+','+GPS_point['위도'].astype(str)"
   ]
  },
  {
   "cell_type": "code",
   "execution_count": null,
   "id": "7c580b49-0dff-4c30-9184-27fca4febc54",
   "metadata": {},
   "outputs": [],
   "source": [
    "GPS_point.head()"
   ]
  },
  {
   "cell_type": "code",
   "execution_count": null,
   "id": "4c2506cf-aab2-4a59-95de-06237c16152a",
   "metadata": {},
   "outputs": [],
   "source": [
    "GPS_point.loc[5,'위도']"
   ]
  },
  {
   "cell_type": "code",
   "execution_count": null,
   "id": "9e983b6f-93d5-4eac-ac4b-c8f4ccb5a8a5",
   "metadata": {},
   "outputs": [],
   "source": [
    "res=[]\n",
    "x=[]\n",
    "for j in tqdm(df.index):\n",
    "    lat =  df.loc[j,'위도']\n",
    "    long = df.loc[j,'경도']    \n",
    "\n",
    "    min_dist = 50\n",
    "    for i in GPS_point.index:\n",
    "        sub_lat =  GPS_point.loc[i,'위도']\n",
    "        sub_long = GPS_point.loc[i,'경도']\n",
    "        min_dist=min(min_dist,GeoUtil.get_harversion_distance(sub_long, sub_lat,long, lat))\n",
    "    x.append(min_dist)\n",
    "    base=np.array(x)"
   ]
  },
  {
   "cell_type": "code",
   "execution_count": null,
   "id": "77587b05-244e-4dd7-9501-6b1b598858ed",
   "metadata": {},
   "outputs": [],
   "source": [
    "print('평균 지선 거리',base.mean().round(2),'km')\n",
    "print('지선 거리 총합',base.sum().round(2),'km')"
   ]
  },
  {
   "cell_type": "code",
   "execution_count": null,
   "id": "f3378272-d1a5-4b76-9831-99a9511f4cbb",
   "metadata": {},
   "outputs": [],
   "source": [
    "#네이버 경로 탐지 및 도로 시각화 코드\n",
    "def path_geocord(gps1, gps2, color):\n",
    "    client_id = 'xhbfckkyg3';    # 본인이 할당받은 ID 입력\n",
    "    client_pw = 'lpd28lbrhk1WqcLPSmEzUUSAL0mrM5lwyMCAZoaz';    # 본인이 할당받은 Secret 입력\n",
    "    api_url = 'https://naveropenapi.apigw.gov-ntruss.com/map-direction/v1/driving?start='\n",
    "    url_mid = '&goal='\n",
    "    path_coordi = []\n",
    "    url = api_url + gps1 + url_mid + gps2\n",
    "    request = Request(url)\n",
    "    request.add_header('X-NCP-APIGW-API-KEY-ID', client_id)\n",
    "    request.add_header('X-NCP-APIGW-API-KEY', client_pw)\n",
    "    \n",
    "    try:\n",
    "        response = urlopen(request)\n",
    "    except HTTPError as e:\n",
    "        print('HTTP Error!')\n",
    "    else:\n",
    "        rescode = response.getcode()\n",
    "        if rescode == 200:\n",
    "            response_body = response.read().decode('utf-8')\n",
    "            response_body = json.loads(response_body)   # json\n",
    "            if response_body['code'] != 0:\n",
    "                print(response_body[\"message\"])\n",
    "                distance=0\n",
    "                duration=None\n",
    "                path=None\n",
    "            else:\n",
    "                print(response_body[\"message\"])\n",
    "                distance = response_body[\"route\"]['traoptimal'][0]['summary']['distance']\n",
    "                duration = response_body[\"route\"]['traoptimal'][0]['summary']['duration']\n",
    "                path = response_body[\"route\"]['traoptimal'][0]['path']\n",
    "    path_coordi.append([distance, duration, path])\n",
    "    np_path_coordi = np.array(path_coordi)\n",
    "    pd_path_coordi = pd.DataFrame({\n",
    "                              \"이동거리\": np_path_coordi[:, 0],\n",
    "                              \"소요시간\": np_path_coordi[:, 1],\n",
    "                              \"전체이동경로\": np_path_coordi[:, 2]})\n",
    "    points=[]\n",
    "    for j in range(len(pd_path_coordi['전체이동경로'][0])):\n",
    "        points.append(sorted(pd_path_coordi['전체이동경로'][0][j]))\n",
    "    folium.PolyLine(points,tooltip = i,color=color).add_to(m)\n",
    "    print(\"해당 지선 이동거리:\", pd_path_coordi['이동거리'][0]/1000, \"km\")\n",
    "    print(\"해당 지선 이동시간:\", pd_path_coordi['소요시간'][0]/60000, \"분\")"
   ]
  },
  {
   "cell_type": "code",
   "execution_count": null,
   "id": "0ecc7fb3-462d-4c57-900b-7497dbde6d49",
   "metadata": {},
   "outputs": [],
   "source": [
    "path_geocord(GPS_point['좌표'][6],GPS_point['좌표'][18],'red')"
   ]
  },
  {
   "cell_type": "code",
   "execution_count": null,
   "id": "b58b8e77-0ea4-40ce-ae5e-15ad5adb4b61",
   "metadata": {},
   "outputs": [],
   "source": [
    "basecamp_GPS = pd.read_csv('E:/post/basecamp_geo.csv', encoding='UTF-8', sep=\"|\", error_bad_lines=False)"
   ]
  },
  {
   "cell_type": "code",
   "execution_count": null,
   "id": "eb512dd0-1e80-4409-8b6f-d3cef53e5b83",
   "metadata": {},
   "outputs": [],
   "source": [
    "basecamp_GPS.head()"
   ]
  },
  {
   "cell_type": "code",
   "execution_count": null,
   "id": "6fa926b8-f63f-417b-8bcf-a89d812c7f98",
   "metadata": {},
   "outputs": [],
   "source": [
    "path_geocord(basecamp_GPS['GPS'][1],GPS_point['좌표'][18],'blue')"
   ]
  },
  {
   "cell_type": "code",
   "execution_count": null,
   "id": "eed9ba74-6af7-4221-a90a-fc09b00f8515",
   "metadata": {},
   "outputs": [],
   "source": [
    "post = pd.read_csv('E:/post/picmt0060.csv', encoding='UTF-8', sep=\",\", error_bad_lines=False)\n",
    "subpost=post[post['POADDR'].str.contains('인천')]\n",
    "subpost = subpost.iloc[:,[0,16,18,19,65,66]]"
   ]
  },
  {
   "cell_type": "code",
   "execution_count": null,
   "id": "6993cce9-365e-4f75-a920-47d2f652561a",
   "metadata": {},
   "outputs": [],
   "source": [
    "subpost.head()"
   ]
  },
  {
   "cell_type": "code",
   "execution_count": null,
   "id": "bcf18b05-0ce1-4f09-a3a2-7b957cedb945",
   "metadata": {},
   "outputs": [],
   "source": [
    "subpost=subpost.dropna(subset=['RDGISX'])\n",
    "subpost=subpost.dropna(subset=['RDGISY'])\n",
    "subpost['좌표']=subpost['RDGISX'].astype(str)+','+subpost['RDGISY'].astype(str)"
   ]
  },
  {
   "cell_type": "code",
   "execution_count": null,
   "id": "04560eda-9d92-4f36-9069-482177966903",
   "metadata": {},
   "outputs": [],
   "source": [
    "subpost.reset_index(drop=True, inplace=True)"
   ]
  },
  {
   "cell_type": "code",
   "execution_count": null,
   "id": "a4b2c3fd-a574-4a53-9067-2e0ed43178ff",
   "metadata": {},
   "outputs": [],
   "source": [
    "subpost['좌표'][121]"
   ]
  },
  {
   "cell_type": "code",
   "execution_count": null,
   "id": "05b40ae7-ef79-4554-b788-789c68b127ab",
   "metadata": {},
   "outputs": [],
   "source": [
    "path_geocord(subpost['좌표'][121],GPS_point['좌표'][5],'green')"
   ]
  },
  {
   "cell_type": "code",
   "execution_count": null,
   "id": "2beddcef-6394-47f6-8636-c1c3bb0213fb",
   "metadata": {},
   "outputs": [],
   "source": [
    "m"
   ]
  },
  {
   "cell_type": "code",
   "execution_count": null,
   "id": "301d5527-a49d-45a4-9c35-fd259178e0d4",
   "metadata": {},
   "outputs": [],
   "source": []
  }
 ],
 "metadata": {
  "kernelspec": {
   "display_name": "Python 3",
   "language": "python",
   "name": "python3"
  },
  "language_info": {
   "codemirror_mode": {
    "name": "ipython",
    "version": 3
   },
   "file_extension": ".py",
   "mimetype": "text/x-python",
   "name": "python",
   "nbconvert_exporter": "python",
   "pygments_lexer": "ipython3",
   "version": "3.8.8"
  }
 },
 "nbformat": 4,
 "nbformat_minor": 5
}
