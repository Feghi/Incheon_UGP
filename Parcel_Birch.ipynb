{
 "cells": [
  {
   "cell_type": "code",
   "execution_count": 8,
   "id": "80c82cd1-d3b3-444b-95ad-b9d8af05d799",
   "metadata": {},
   "outputs": [],
   "source": [
    "import pandas as pd\n",
    "from sklearn.cluster import Birch\n",
    "import matplotlib.pyplot  as plt\n",
    "import seaborn as sns"
   ]
  },
  {
   "cell_type": "code",
   "execution_count": 9,
   "id": "f72a1fd6-7e6e-4b27-bd36-e7a52bd0c7c0",
   "metadata": {},
   "outputs": [],
   "source": [
    " df = pd.read_csv('E:/incheon/parcel_20210105_58131.csv', encoding='UTF-8', sep=\"|\", error_bad_lines=False)"
   ]
  },
  {
   "cell_type": "code",
   "execution_count": 10,
   "id": "5abc571d-cbb3-46ef-8f43-fe40be0111ff",
   "metadata": {},
   "outputs": [],
   "source": [
    "df=df.dropna(subset=['위도'])\n",
    "df=df.dropna(subset=['경도'])\n",
    "df = df.reset_index(drop=True)"
   ]
  },
  {
   "cell_type": "code",
   "execution_count": 11,
   "id": "4302987e-5469-43f4-a659-fdca6666125c",
   "metadata": {},
   "outputs": [
    {
     "data": {
      "text/html": [
       "<div>\n",
       "<style scoped>\n",
       "    .dataframe tbody tr th:only-of-type {\n",
       "        vertical-align: middle;\n",
       "    }\n",
       "\n",
       "    .dataframe tbody tr th {\n",
       "        vertical-align: top;\n",
       "    }\n",
       "\n",
       "    .dataframe thead th {\n",
       "        text-align: right;\n",
       "    }\n",
       "</style>\n",
       "<table border=\"1\" class=\"dataframe\">\n",
       "  <thead>\n",
       "    <tr style=\"text-align: right;\">\n",
       "      <th></th>\n",
       "      <th>위도</th>\n",
       "      <th>경도</th>\n",
       "    </tr>\n",
       "  </thead>\n",
       "  <tbody>\n",
       "    <tr>\n",
       "      <th>0</th>\n",
       "      <td>37.539378</td>\n",
       "      <td>126.648051</td>\n",
       "    </tr>\n",
       "    <tr>\n",
       "      <th>1</th>\n",
       "      <td>37.558867</td>\n",
       "      <td>126.650829</td>\n",
       "    </tr>\n",
       "    <tr>\n",
       "      <th>2</th>\n",
       "      <td>37.493618</td>\n",
       "      <td>126.671048</td>\n",
       "    </tr>\n",
       "    <tr>\n",
       "      <th>3</th>\n",
       "      <td>37.533390</td>\n",
       "      <td>126.657683</td>\n",
       "    </tr>\n",
       "    <tr>\n",
       "      <th>4</th>\n",
       "      <td>37.529079</td>\n",
       "      <td>126.668766</td>\n",
       "    </tr>\n",
       "  </tbody>\n",
       "</table>\n",
       "</div>"
      ],
      "text/plain": [
       "          위도          경도\n",
       "0  37.539378  126.648051\n",
       "1  37.558867  126.650829\n",
       "2  37.493618  126.671048\n",
       "3  37.533390  126.657683\n",
       "4  37.529079  126.668766"
      ]
     },
     "execution_count": 11,
     "metadata": {},
     "output_type": "execute_result"
    }
   ],
   "source": [
    "feature = df[ ['위도','경도']]\n",
    "feature.head()"
   ]
  },
  {
   "cell_type": "code",
   "execution_count": 23,
   "id": "fa822644-0aaa-4393-b6d7-9249be8db0c9",
   "metadata": {},
   "outputs": [
    {
     "data": {
      "text/plain": [
       "array([0, 0, 0, ..., 0, 0, 0])"
      ]
     },
     "execution_count": 23,
     "metadata": {},
     "output_type": "execute_result"
    }
   ],
   "source": [
    "brc = Birch(n_clusters=None)\n",
    "brc.fit(feature)\n",
    "brc.predict(feature)\n",
    "# predict.columns=['predict']\n",
    "\n",
    "# # concatenate labels to df as a new column\n",
    "# r = pd.concat([feature,predict],axis=1)\n"
   ]
  },
  {
   "cell_type": "code",
   "execution_count": 22,
   "id": "f28d9d5c-f23c-486c-8021-cd588954811e",
   "metadata": {},
   "outputs": [
    {
     "data": {
      "text/plain": [
       "0"
      ]
     },
     "execution_count": 22,
     "metadata": {},
     "output_type": "execute_result"
    }
   ],
   "source": [
    "sum(predict)"
   ]
  },
  {
   "cell_type": "code",
   "execution_count": null,
   "id": "56c19eef-4827-43b7-acfd-27f383ff45f6",
   "metadata": {},
   "outputs": [],
   "source": [
    "r.head()"
   ]
  },
  {
   "cell_type": "code",
   "execution_count": null,
   "id": "ccc35226-0083-43f3-9b1d-3c230c529f71",
   "metadata": {},
   "outputs": [],
   "source": [
    "#pairplot with Seaborn\n",
    "plt.rcParams['font.family'] = 'NanumGothic'\n",
    "sns.pairplot(r,hue='predict')\n",
    "plt.show()"
   ]
  },
  {
   "cell_type": "code",
   "execution_count": null,
   "id": "6d57a006-6af0-4159-9ad2-f82ebea05bb0",
   "metadata": {},
   "outputs": [],
   "source": [
    "GPS_point=r.groupby('predict')[['위도','경도']].agg( lambda x: pd.Series.mode(x)[0]).reset_index() ## 평균 GPS"
   ]
  },
  {
   "cell_type": "code",
   "execution_count": null,
   "id": "05f01728-e216-44ba-94c0-49f4a988d5cd",
   "metadata": {},
   "outputs": [],
   "source": [
    "sum(r.groupby('predict').count()['위도']>100)"
   ]
  },
  {
   "cell_type": "code",
   "execution_count": null,
   "id": "71c9598a-5e43-46bf-b3a9-0551382ab065",
   "metadata": {},
   "outputs": [],
   "source": [
    "r.groupby('predict')[['위도','경도']].agg(pd.Series.count).reset_index() ## 평균 GPS"
   ]
  },
  {
   "cell_type": "code",
   "execution_count": null,
   "id": "e3bdab8e-e0d9-480c-b65b-f52e12a1eb30",
   "metadata": {},
   "outputs": [],
   "source": [
    "GPS_point=GPS_point.drop(0).reset_index()"
   ]
  },
  {
   "cell_type": "code",
   "execution_count": null,
   "id": "6129aa71-e214-4768-b181-abee5e1c9958",
   "metadata": {},
   "outputs": [],
   "source": [
    "GPS_point=GPS_point[GPS_point['predict']<sum(r.groupby('predict').count()['위도']>100)]"
   ]
  },
  {
   "cell_type": "code",
   "execution_count": null,
   "id": "31318813-87d3-4302-98c5-ae3fafe91838",
   "metadata": {},
   "outputs": [],
   "source": [
    "#사용 라이브러리\n",
    "import numpy as np\n",
    "import pandas as pd\n",
    "from tqdm import tqdm\n",
    "import folium\n",
    "from folium.plugins import MarkerCluster\n",
    "from urllib.request import Request, urlopen\n",
    "from urllib import parse\n",
    "from urllib.request import Request\n",
    "from urllib.error import HTTPError\n",
    "from lxml import html\n",
    "import time\n",
    "import requests, bs4\n",
    "from urllib.parse import urlencode, quote_plus, unquote\n",
    "from bs4 import BeautifulSoup\n",
    "import json\n",
    "pd.set_option('display.max_columns', 500)"
   ]
  },
  {
   "cell_type": "code",
   "execution_count": null,
   "id": "073c0786-af75-40d5-8978-b51dba02c358",
   "metadata": {},
   "outputs": [],
   "source": [
    "lat = GPS_point['위도'].mean()\n",
    "long = GPS_point['경도'].mean()\n",
    "m = folium.Map([lat,long],zoom_start=10)"
   ]
  },
  {
   "cell_type": "code",
   "execution_count": null,
   "id": "219d6fc3-3a20-4486-9559-5ebaa049609f",
   "metadata": {},
   "outputs": [],
   "source": [
    "\n",
    "for i in GPS_point.index:\n",
    "    sub_lat =  GPS_point.loc[i,'위도']\n",
    "    sub_long = GPS_point.loc[i,'경도']\n",
    "    title = GPS_point.loc[i,'predict']            \n",
    "    #지도에 데이터 찍어서 보여주기\n",
    "    folium.Marker([sub_lat,sub_long],icon=folium.Icon(color='red', icon='home', prefix='fa'),tooltip=title).add_to(m)\n",
    "    folium.Circle([sub_lat,sub_long],tooltip=title,radius=2500).add_to(m)\n",
    "\n",
    "#한글이 안나오는 오류로 html로 trouble shooting \n",
    "m"
   ]
  },
  {
   "cell_type": "code",
   "execution_count": null,
   "id": "29ad9865-6705-45ba-8aa1-1203c34be993",
   "metadata": {},
   "outputs": [],
   "source": [
    "def plot(df):\n",
    "    # 리스트를 이용해 여러 행의 데이터를 위,경도로 묶음\n",
    "    locations = list(zip(df.위도, df.경도))\n",
    "    # 반복문을 이용해 locations로 정의한 변수에 해당하는 위치에 자동차 모양의 빨간색 아이콘을 지정했다.\n",
    "    icons = [folium.Icon(icon=\"box\", prefix=\"fa\", color=\"green\") for _ in range(len(locations))]\n",
    "\n",
    "\n",
    "    # 클러스터를 생성하여 앞에서 지정한 locations, icons을 설정해준다.\n",
    "    cluster = MarkerCluster(locations = locations, icons = icons)\n",
    "    # 지도에 클러스터를 추가.\n",
    "    cluster.add_to(m)"
   ]
  },
  {
   "cell_type": "code",
   "execution_count": null,
   "id": "7b2e5db9-e5a5-49d7-9afe-4eb73014e851",
   "metadata": {},
   "outputs": [],
   "source": [
    "plot(df)\n",
    "m"
   ]
  },
  {
   "cell_type": "code",
   "execution_count": null,
   "id": "39a1d9e0-1cf7-4077-93b1-04b70d838f62",
   "metadata": {},
   "outputs": [],
   "source": []
  }
 ],
 "metadata": {
  "kernelspec": {
   "display_name": "Python 3",
   "language": "python",
   "name": "python3"
  },
  "language_info": {
   "codemirror_mode": {
    "name": "ipython",
    "version": 3
   },
   "file_extension": ".py",
   "mimetype": "text/x-python",
   "name": "python",
   "nbconvert_exporter": "python",
   "pygments_lexer": "ipython3",
   "version": "3.8.8"
  }
 },
 "nbformat": 4,
 "nbformat_minor": 5
}
